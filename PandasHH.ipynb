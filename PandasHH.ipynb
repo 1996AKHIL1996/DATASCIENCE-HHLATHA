{
 "cells": [
  {
   "cell_type": "markdown",
   "id": "ebe25a9d",
   "metadata": {},
   "source": [
    "# PANDAS"
   ]
  },
  {
   "cell_type": "code",
   "execution_count": 4,
   "id": "3e334154",
   "metadata": {},
   "outputs": [],
   "source": [
    "import pandas as pd\n",
    "import numpy as np"
   ]
  },
  {
   "cell_type": "code",
   "execution_count": 6,
   "id": "4f9888a3",
   "metadata": {},
   "outputs": [],
   "source": [
    "df1 =pd.DataFrame(np.random.rand(8,5),index='A B C D E F G H'.split(),columns='score1 score2 score3 score4 score5'.split())"
   ]
  },
  {
   "cell_type": "code",
   "execution_count": 7,
   "id": "4867fa53",
   "metadata": {},
   "outputs": [
    {
     "data": {
      "text/html": [
       "<div>\n",
       "<style scoped>\n",
       "    .dataframe tbody tr th:only-of-type {\n",
       "        vertical-align: middle;\n",
       "    }\n",
       "\n",
       "    .dataframe tbody tr th {\n",
       "        vertical-align: top;\n",
       "    }\n",
       "\n",
       "    .dataframe thead th {\n",
       "        text-align: right;\n",
       "    }\n",
       "</style>\n",
       "<table border=\"1\" class=\"dataframe\">\n",
       "  <thead>\n",
       "    <tr style=\"text-align: right;\">\n",
       "      <th></th>\n",
       "      <th>score1</th>\n",
       "      <th>score2</th>\n",
       "      <th>score3</th>\n",
       "      <th>score4</th>\n",
       "      <th>score5</th>\n",
       "    </tr>\n",
       "  </thead>\n",
       "  <tbody>\n",
       "    <tr>\n",
       "      <th>A</th>\n",
       "      <td>0.782864</td>\n",
       "      <td>0.257921</td>\n",
       "      <td>0.248293</td>\n",
       "      <td>0.422572</td>\n",
       "      <td>0.336259</td>\n",
       "    </tr>\n",
       "    <tr>\n",
       "      <th>B</th>\n",
       "      <td>0.249203</td>\n",
       "      <td>0.954687</td>\n",
       "      <td>0.481991</td>\n",
       "      <td>0.352690</td>\n",
       "      <td>0.141297</td>\n",
       "    </tr>\n",
       "    <tr>\n",
       "      <th>C</th>\n",
       "      <td>0.138356</td>\n",
       "      <td>0.351275</td>\n",
       "      <td>0.605092</td>\n",
       "      <td>0.335219</td>\n",
       "      <td>0.120426</td>\n",
       "    </tr>\n",
       "    <tr>\n",
       "      <th>D</th>\n",
       "      <td>0.275137</td>\n",
       "      <td>0.511834</td>\n",
       "      <td>0.378834</td>\n",
       "      <td>0.725001</td>\n",
       "      <td>0.455009</td>\n",
       "    </tr>\n",
       "    <tr>\n",
       "      <th>E</th>\n",
       "      <td>0.036275</td>\n",
       "      <td>0.147889</td>\n",
       "      <td>0.921004</td>\n",
       "      <td>0.038123</td>\n",
       "      <td>0.816545</td>\n",
       "    </tr>\n",
       "    <tr>\n",
       "      <th>F</th>\n",
       "      <td>0.316588</td>\n",
       "      <td>0.036132</td>\n",
       "      <td>0.997916</td>\n",
       "      <td>0.599118</td>\n",
       "      <td>0.530591</td>\n",
       "    </tr>\n",
       "    <tr>\n",
       "      <th>G</th>\n",
       "      <td>0.412780</td>\n",
       "      <td>0.710580</td>\n",
       "      <td>0.777684</td>\n",
       "      <td>0.725167</td>\n",
       "      <td>0.973674</td>\n",
       "    </tr>\n",
       "    <tr>\n",
       "      <th>H</th>\n",
       "      <td>0.222246</td>\n",
       "      <td>0.049227</td>\n",
       "      <td>0.069740</td>\n",
       "      <td>0.863076</td>\n",
       "      <td>0.559055</td>\n",
       "    </tr>\n",
       "  </tbody>\n",
       "</table>\n",
       "</div>"
      ],
      "text/plain": [
       "     score1    score2    score3    score4    score5\n",
       "A  0.782864  0.257921  0.248293  0.422572  0.336259\n",
       "B  0.249203  0.954687  0.481991  0.352690  0.141297\n",
       "C  0.138356  0.351275  0.605092  0.335219  0.120426\n",
       "D  0.275137  0.511834  0.378834  0.725001  0.455009\n",
       "E  0.036275  0.147889  0.921004  0.038123  0.816545\n",
       "F  0.316588  0.036132  0.997916  0.599118  0.530591\n",
       "G  0.412780  0.710580  0.777684  0.725167  0.973674\n",
       "H  0.222246  0.049227  0.069740  0.863076  0.559055"
      ]
     },
     "execution_count": 7,
     "metadata": {},
     "output_type": "execute_result"
    }
   ],
   "source": [
    "df1"
   ]
  },
  {
   "cell_type": "code",
   "execution_count": 9,
   "id": "938d2294",
   "metadata": {},
   "outputs": [
    {
     "data": {
      "text/html": [
       "<div>\n",
       "<style scoped>\n",
       "    .dataframe tbody tr th:only-of-type {\n",
       "        vertical-align: middle;\n",
       "    }\n",
       "\n",
       "    .dataframe tbody tr th {\n",
       "        vertical-align: top;\n",
       "    }\n",
       "\n",
       "    .dataframe thead th {\n",
       "        text-align: right;\n",
       "    }\n",
       "</style>\n",
       "<table border=\"1\" class=\"dataframe\">\n",
       "  <thead>\n",
       "    <tr style=\"text-align: right;\">\n",
       "      <th></th>\n",
       "      <th>score3</th>\n",
       "      <th>score4</th>\n",
       "      <th>score5</th>\n",
       "    </tr>\n",
       "  </thead>\n",
       "  <tbody>\n",
       "    <tr>\n",
       "      <th>A</th>\n",
       "      <td>0.248293</td>\n",
       "      <td>0.422572</td>\n",
       "      <td>0.336259</td>\n",
       "    </tr>\n",
       "    <tr>\n",
       "      <th>B</th>\n",
       "      <td>0.481991</td>\n",
       "      <td>0.352690</td>\n",
       "      <td>0.141297</td>\n",
       "    </tr>\n",
       "    <tr>\n",
       "      <th>C</th>\n",
       "      <td>0.605092</td>\n",
       "      <td>0.335219</td>\n",
       "      <td>0.120426</td>\n",
       "    </tr>\n",
       "    <tr>\n",
       "      <th>D</th>\n",
       "      <td>0.378834</td>\n",
       "      <td>0.725001</td>\n",
       "      <td>0.455009</td>\n",
       "    </tr>\n",
       "    <tr>\n",
       "      <th>E</th>\n",
       "      <td>0.921004</td>\n",
       "      <td>0.038123</td>\n",
       "      <td>0.816545</td>\n",
       "    </tr>\n",
       "    <tr>\n",
       "      <th>F</th>\n",
       "      <td>0.997916</td>\n",
       "      <td>0.599118</td>\n",
       "      <td>0.530591</td>\n",
       "    </tr>\n",
       "    <tr>\n",
       "      <th>G</th>\n",
       "      <td>0.777684</td>\n",
       "      <td>0.725167</td>\n",
       "      <td>0.973674</td>\n",
       "    </tr>\n",
       "    <tr>\n",
       "      <th>H</th>\n",
       "      <td>0.069740</td>\n",
       "      <td>0.863076</td>\n",
       "      <td>0.559055</td>\n",
       "    </tr>\n",
       "  </tbody>\n",
       "</table>\n",
       "</div>"
      ],
      "text/plain": [
       "     score3    score4    score5\n",
       "A  0.248293  0.422572  0.336259\n",
       "B  0.481991  0.352690  0.141297\n",
       "C  0.605092  0.335219  0.120426\n",
       "D  0.378834  0.725001  0.455009\n",
       "E  0.921004  0.038123  0.816545\n",
       "F  0.997916  0.599118  0.530591\n",
       "G  0.777684  0.725167  0.973674\n",
       "H  0.069740  0.863076  0.559055"
      ]
     },
     "execution_count": 9,
     "metadata": {},
     "output_type": "execute_result"
    }
   ],
   "source": [
    "df1.drop(['score1','score2'],axis=1)"
   ]
  },
  {
   "cell_type": "code",
   "execution_count": 11,
   "id": "77bceeb0",
   "metadata": {},
   "outputs": [],
   "source": [
    "df1['score6']=df1['score1']+df1['score2']"
   ]
  },
  {
   "cell_type": "code",
   "execution_count": 12,
   "id": "295f151b",
   "metadata": {},
   "outputs": [
    {
     "data": {
      "text/html": [
       "<div>\n",
       "<style scoped>\n",
       "    .dataframe tbody tr th:only-of-type {\n",
       "        vertical-align: middle;\n",
       "    }\n",
       "\n",
       "    .dataframe tbody tr th {\n",
       "        vertical-align: top;\n",
       "    }\n",
       "\n",
       "    .dataframe thead th {\n",
       "        text-align: right;\n",
       "    }\n",
       "</style>\n",
       "<table border=\"1\" class=\"dataframe\">\n",
       "  <thead>\n",
       "    <tr style=\"text-align: right;\">\n",
       "      <th></th>\n",
       "      <th>score1</th>\n",
       "      <th>score2</th>\n",
       "      <th>score3</th>\n",
       "      <th>score4</th>\n",
       "      <th>score5</th>\n",
       "      <th>score6</th>\n",
       "    </tr>\n",
       "  </thead>\n",
       "  <tbody>\n",
       "    <tr>\n",
       "      <th>A</th>\n",
       "      <td>0.782864</td>\n",
       "      <td>0.257921</td>\n",
       "      <td>0.248293</td>\n",
       "      <td>0.422572</td>\n",
       "      <td>0.336259</td>\n",
       "      <td>1.040785</td>\n",
       "    </tr>\n",
       "    <tr>\n",
       "      <th>B</th>\n",
       "      <td>0.249203</td>\n",
       "      <td>0.954687</td>\n",
       "      <td>0.481991</td>\n",
       "      <td>0.352690</td>\n",
       "      <td>0.141297</td>\n",
       "      <td>1.203890</td>\n",
       "    </tr>\n",
       "    <tr>\n",
       "      <th>C</th>\n",
       "      <td>0.138356</td>\n",
       "      <td>0.351275</td>\n",
       "      <td>0.605092</td>\n",
       "      <td>0.335219</td>\n",
       "      <td>0.120426</td>\n",
       "      <td>0.489631</td>\n",
       "    </tr>\n",
       "    <tr>\n",
       "      <th>D</th>\n",
       "      <td>0.275137</td>\n",
       "      <td>0.511834</td>\n",
       "      <td>0.378834</td>\n",
       "      <td>0.725001</td>\n",
       "      <td>0.455009</td>\n",
       "      <td>0.786971</td>\n",
       "    </tr>\n",
       "    <tr>\n",
       "      <th>E</th>\n",
       "      <td>0.036275</td>\n",
       "      <td>0.147889</td>\n",
       "      <td>0.921004</td>\n",
       "      <td>0.038123</td>\n",
       "      <td>0.816545</td>\n",
       "      <td>0.184164</td>\n",
       "    </tr>\n",
       "    <tr>\n",
       "      <th>F</th>\n",
       "      <td>0.316588</td>\n",
       "      <td>0.036132</td>\n",
       "      <td>0.997916</td>\n",
       "      <td>0.599118</td>\n",
       "      <td>0.530591</td>\n",
       "      <td>0.352719</td>\n",
       "    </tr>\n",
       "    <tr>\n",
       "      <th>G</th>\n",
       "      <td>0.412780</td>\n",
       "      <td>0.710580</td>\n",
       "      <td>0.777684</td>\n",
       "      <td>0.725167</td>\n",
       "      <td>0.973674</td>\n",
       "      <td>1.123360</td>\n",
       "    </tr>\n",
       "    <tr>\n",
       "      <th>H</th>\n",
       "      <td>0.222246</td>\n",
       "      <td>0.049227</td>\n",
       "      <td>0.069740</td>\n",
       "      <td>0.863076</td>\n",
       "      <td>0.559055</td>\n",
       "      <td>0.271472</td>\n",
       "    </tr>\n",
       "  </tbody>\n",
       "</table>\n",
       "</div>"
      ],
      "text/plain": [
       "     score1    score2    score3    score4    score5    score6\n",
       "A  0.782864  0.257921  0.248293  0.422572  0.336259  1.040785\n",
       "B  0.249203  0.954687  0.481991  0.352690  0.141297  1.203890\n",
       "C  0.138356  0.351275  0.605092  0.335219  0.120426  0.489631\n",
       "D  0.275137  0.511834  0.378834  0.725001  0.455009  0.786971\n",
       "E  0.036275  0.147889  0.921004  0.038123  0.816545  0.184164\n",
       "F  0.316588  0.036132  0.997916  0.599118  0.530591  0.352719\n",
       "G  0.412780  0.710580  0.777684  0.725167  0.973674  1.123360\n",
       "H  0.222246  0.049227  0.069740  0.863076  0.559055  0.271472"
      ]
     },
     "execution_count": 12,
     "metadata": {},
     "output_type": "execute_result"
    }
   ],
   "source": [
    "df1"
   ]
  },
  {
   "cell_type": "code",
   "execution_count": 13,
   "id": "98f68839",
   "metadata": {},
   "outputs": [
    {
     "data": {
      "text/html": [
       "<div>\n",
       "<style scoped>\n",
       "    .dataframe tbody tr th:only-of-type {\n",
       "        vertical-align: middle;\n",
       "    }\n",
       "\n",
       "    .dataframe tbody tr th {\n",
       "        vertical-align: top;\n",
       "    }\n",
       "\n",
       "    .dataframe thead th {\n",
       "        text-align: right;\n",
       "    }\n",
       "</style>\n",
       "<table border=\"1\" class=\"dataframe\">\n",
       "  <thead>\n",
       "    <tr style=\"text-align: right;\">\n",
       "      <th></th>\n",
       "      <th>ID</th>\n",
       "      <th>Name</th>\n",
       "      <th>Age</th>\n",
       "    </tr>\n",
       "  </thead>\n",
       "  <tbody>\n",
       "    <tr>\n",
       "      <th>0</th>\n",
       "      <td>101</td>\n",
       "      <td>Jhon</td>\n",
       "      <td>22</td>\n",
       "    </tr>\n",
       "    <tr>\n",
       "      <th>1</th>\n",
       "      <td>102</td>\n",
       "      <td>Mercy</td>\n",
       "      <td>25</td>\n",
       "    </tr>\n",
       "    <tr>\n",
       "      <th>2</th>\n",
       "      <td>104</td>\n",
       "      <td>Akhil</td>\n",
       "      <td>24</td>\n",
       "    </tr>\n",
       "  </tbody>\n",
       "</table>\n",
       "</div>"
      ],
      "text/plain": [
       "    ID   Name  Age\n",
       "0  101   Jhon   22\n",
       "1  102  Mercy   25\n",
       "2  104  Akhil   24"
      ]
     },
     "execution_count": 13,
     "metadata": {},
     "output_type": "execute_result"
    }
   ],
   "source": [
    "df2 ={'ID':[101,102,104],'Name':['Jhon','Mercy','Akhil'],'Age':[22,25,24]}\n",
    "df =pd.DataFrame(df2)\n",
    "df"
   ]
  },
  {
   "cell_type": "code",
   "execution_count": 18,
   "id": "541b13e3",
   "metadata": {},
   "outputs": [
    {
     "data": {
      "text/html": [
       "<div>\n",
       "<style scoped>\n",
       "    .dataframe tbody tr th:only-of-type {\n",
       "        vertical-align: middle;\n",
       "    }\n",
       "\n",
       "    .dataframe tbody tr th {\n",
       "        vertical-align: top;\n",
       "    }\n",
       "\n",
       "    .dataframe thead th {\n",
       "        text-align: right;\n",
       "    }\n",
       "</style>\n",
       "<table border=\"1\" class=\"dataframe\">\n",
       "  <thead>\n",
       "    <tr style=\"text-align: right;\">\n",
       "      <th></th>\n",
       "      <th>Age</th>\n",
       "      <th>Name</th>\n",
       "    </tr>\n",
       "  </thead>\n",
       "  <tbody>\n",
       "    <tr>\n",
       "      <th>0</th>\n",
       "      <td>22</td>\n",
       "      <td>Jhon</td>\n",
       "    </tr>\n",
       "    <tr>\n",
       "      <th>1</th>\n",
       "      <td>25</td>\n",
       "      <td>Mercy</td>\n",
       "    </tr>\n",
       "    <tr>\n",
       "      <th>2</th>\n",
       "      <td>24</td>\n",
       "      <td>Akhil</td>\n",
       "    </tr>\n",
       "  </tbody>\n",
       "</table>\n",
       "</div>"
      ],
      "text/plain": [
       "   Age   Name\n",
       "0   22   Jhon\n",
       "1   25  Mercy\n",
       "2   24  Akhil"
      ]
     },
     "execution_count": 18,
     "metadata": {},
     "output_type": "execute_result"
    }
   ],
   "source": [
    "df[['Age','Name']]"
   ]
  },
  {
   "cell_type": "code",
   "execution_count": 20,
   "id": "a726648c",
   "metadata": {},
   "outputs": [
    {
     "data": {
      "text/html": [
       "<div>\n",
       "<style scoped>\n",
       "    .dataframe tbody tr th:only-of-type {\n",
       "        vertical-align: middle;\n",
       "    }\n",
       "\n",
       "    .dataframe tbody tr th {\n",
       "        vertical-align: top;\n",
       "    }\n",
       "\n",
       "    .dataframe thead th {\n",
       "        text-align: right;\n",
       "    }\n",
       "</style>\n",
       "<table border=\"1\" class=\"dataframe\">\n",
       "  <thead>\n",
       "    <tr style=\"text-align: right;\">\n",
       "      <th></th>\n",
       "      <th>ID</th>\n",
       "    </tr>\n",
       "  </thead>\n",
       "  <tbody>\n",
       "    <tr>\n",
       "      <th>0</th>\n",
       "      <td>101</td>\n",
       "    </tr>\n",
       "    <tr>\n",
       "      <th>1</th>\n",
       "      <td>102</td>\n",
       "    </tr>\n",
       "    <tr>\n",
       "      <th>2</th>\n",
       "      <td>104</td>\n",
       "    </tr>\n",
       "  </tbody>\n",
       "</table>\n",
       "</div>"
      ],
      "text/plain": [
       "    ID\n",
       "0  101\n",
       "1  102\n",
       "2  104"
      ]
     },
     "execution_count": 20,
     "metadata": {},
     "output_type": "execute_result"
    }
   ],
   "source": [
    "df.drop(['Name','Age'],axis=1) #axis =1 it will search in columns"
   ]
  },
  {
   "cell_type": "code",
   "execution_count": 21,
   "id": "dc696c11",
   "metadata": {},
   "outputs": [
    {
     "data": {
      "text/html": [
       "<div>\n",
       "<style scoped>\n",
       "    .dataframe tbody tr th:only-of-type {\n",
       "        vertical-align: middle;\n",
       "    }\n",
       "\n",
       "    .dataframe tbody tr th {\n",
       "        vertical-align: top;\n",
       "    }\n",
       "\n",
       "    .dataframe thead th {\n",
       "        text-align: right;\n",
       "    }\n",
       "</style>\n",
       "<table border=\"1\" class=\"dataframe\">\n",
       "  <thead>\n",
       "    <tr style=\"text-align: right;\">\n",
       "      <th></th>\n",
       "      <th>ID</th>\n",
       "      <th>Name</th>\n",
       "      <th>Age</th>\n",
       "    </tr>\n",
       "  </thead>\n",
       "  <tbody>\n",
       "    <tr>\n",
       "      <th>0</th>\n",
       "      <td>101</td>\n",
       "      <td>Jhon</td>\n",
       "      <td>22</td>\n",
       "    </tr>\n",
       "    <tr>\n",
       "      <th>1</th>\n",
       "      <td>102</td>\n",
       "      <td>Mercy</td>\n",
       "      <td>25</td>\n",
       "    </tr>\n",
       "    <tr>\n",
       "      <th>2</th>\n",
       "      <td>104</td>\n",
       "      <td>Akhil</td>\n",
       "      <td>24</td>\n",
       "    </tr>\n",
       "  </tbody>\n",
       "</table>\n",
       "</div>"
      ],
      "text/plain": [
       "    ID   Name  Age\n",
       "0  101   Jhon   22\n",
       "1  102  Mercy   25\n",
       "2  104  Akhil   24"
      ]
     },
     "execution_count": 21,
     "metadata": {},
     "output_type": "execute_result"
    }
   ],
   "source": [
    "df"
   ]
  },
  {
   "cell_type": "code",
   "execution_count": 36,
   "id": "6ab45ae1",
   "metadata": {},
   "outputs": [],
   "source": [
    "np1=np.zeros(10)# assessment"
   ]
  },
  {
   "cell_type": "code",
   "execution_count": 29,
   "id": "fbb36771",
   "metadata": {},
   "outputs": [],
   "source": [
    "np1[4]=1"
   ]
  },
  {
   "cell_type": "code",
   "execution_count": 30,
   "id": "9bf1ae50",
   "metadata": {},
   "outputs": [
    {
     "data": {
      "text/plain": [
       "array([0., 0., 0., 0., 1., 0., 0., 0., 0., 0.])"
      ]
     },
     "execution_count": 30,
     "metadata": {},
     "output_type": "execute_result"
    }
   ],
   "source": [
    "np1"
   ]
  },
  {
   "cell_type": "code",
   "execution_count": 33,
   "id": "902b09cc",
   "metadata": {},
   "outputs": [],
   "source": [
    "np2=np.arange(10,66)"
   ]
  },
  {
   "cell_type": "code",
   "execution_count": 35,
   "id": "9183c9ea",
   "metadata": {},
   "outputs": [
    {
     "data": {
      "text/plain": [
       "array([65, 64, 63, 62, 61, 60, 59, 58, 57, 56, 55, 54, 53, 52, 51, 50, 49,\n",
       "       48, 47, 46, 45, 44, 43, 42, 41, 40, 39, 38, 37, 36, 35, 34, 33, 32,\n",
       "       31, 30, 29, 28, 27, 26, 25, 24, 23, 22, 21, 20, 19, 18, 17, 16, 15,\n",
       "       14, 13, 12, 11, 10])"
      ]
     },
     "execution_count": 35,
     "metadata": {},
     "output_type": "execute_result"
    }
   ],
   "source": [
    "np2[: :-1]"
   ]
  },
  {
   "cell_type": "code",
   "execution_count": 38,
   "id": "09cff41d",
   "metadata": {},
   "outputs": [
    {
     "data": {
      "text/plain": [
       "array([[0, 1, 2],\n",
       "       [3, 4, 5],\n",
       "       [6, 7, 8]])"
      ]
     },
     "execution_count": 38,
     "metadata": {},
     "output_type": "execute_result"
    }
   ],
   "source": [
    "np.arange(0,9).reshape(3,3)"
   ]
  },
  {
   "cell_type": "code",
   "execution_count": null,
   "id": "691e97b7",
   "metadata": {},
   "outputs": [],
   "source": []
  }
 ],
 "metadata": {
  "kernelspec": {
   "display_name": "Python 3 (ipykernel)",
   "language": "python",
   "name": "python3"
  },
  "language_info": {
   "codemirror_mode": {
    "name": "ipython",
    "version": 3
   },
   "file_extension": ".py",
   "mimetype": "text/x-python",
   "name": "python",
   "nbconvert_exporter": "python",
   "pygments_lexer": "ipython3",
   "version": "3.8.11"
  }
 },
 "nbformat": 4,
 "nbformat_minor": 5
}
